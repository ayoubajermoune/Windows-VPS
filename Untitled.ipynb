{
  "cells": [
    {
      "cell_type": "markdown",
      "metadata": {
        "id": "view-in-github",
        "colab_type": "text"
      },
      "source": [
        "<a href=\"https://colab.research.google.com/github/ayoubajermoune/Windows-VPS/blob/main/Untitled.ipynb\" target=\"_parent\"><img src=\"https://colab.research.google.com/assets/colab-badge.svg\" alt=\"Open In Colab\"/></a>"
      ]
    },
    {
      "cell_type": "code",
      "execution_count": null,
      "metadata": {
        "id": "Jwj9-9S9Vw1d"
      },
      "outputs": [],
      "source": [
        "import requests\n",
        "from bs4 import BeautifulSoup"
      ]
    },
    {
      "cell_type": "code",
      "execution_count": null,
      "metadata": {
        "id": "LSPbcpA8Vhrn"
      },
      "outputs": [],
      "source": [
        "def litefinance(id:int):\n",
        "  brocker_name = 'litefinance'\n",
        "  brocker_url = f'https://my.litefinance.org/traders/trades?id={id}'\n",
        "  r = requests.get(brocker_url)\n",
        "  list_rows = []\n",
        "  if r.status_code == 200:\n",
        "      content = BeautifulSoup(r.text, 'html.parser')\n",
        "      trader_name = content.find('main').find('div' , {'class' : 'title'})\n",
        "      rows = content.find_all('div' , {'class' : 'content_row'})\n",
        "      for row in rows:\n",
        "        list_rows.append(row)\n",
        "  signals = []\n",
        "  for row in list_rows:\n",
        "    title = row.find_all('div' , {'class' : 'content_col'})[0].find('div' , {'class' , 'title'})\n",
        "    type = row.find_all('div' , {'class' : 'content_col'})[1]\n",
        "    volume = row.find_all('div' , {'class' : 'content_col'})[2].find('strong')\n",
        "    open_time = row.find_all('div' , {'class' : 'content_col'})[3].find('div' , {'class' , 'data_value'})\n",
        "    profite = row.find_all('div' , {'class' : 'content_col'})[8].find('div' , {'class' , 'data_value'}).text.strip().replace(' USD','')\n",
        "    if float(profite) > 0 :\n",
        "      result = {\n",
        "          'crince' : title.text.strip() ,\n",
        "          'action' : type.text.strip(),\n",
        "          'volume' : float(volume.text.strip()) ,\n",
        "          'magic' : id ,\n",
        "          'commend' : open_time.text.strip().replace(' ','').replace('.', '').replace(':', '')\n",
        "      }\n",
        "      signals.append(result)\n",
        "  return {\n",
        "      'brocker_name' : brocker_name,\n",
        "      'trader_name' : trader_name.text.strip(),\n",
        "      'id' : id,\n",
        "      'open_positions': signals\n",
        "  }"
      ]
    },
    {
      "cell_type": "markdown",
      "metadata": {
        "id": "rbY6DdXQFZU4"
      },
      "source": [
        "https://social-trading.exness.com/strategy/11462133\n",
        "\n",
        "https://www.zulutrade.com/trader/425666/trading?t=10000&m=1\n",
        "\n",
        "https://www.hfeu.com/en/copy-trading/strategy-view?account=2020353\n",
        "\n",
        "https://www.hfeu.com/en/copy-trading/strategy-view?account=2028109"
      ]
    },
    {
      "cell_type": "code",
      "execution_count": 66,
      "metadata": {
        "id": "FkYtUiRC-8R4"
      },
      "outputs": [],
      "source": [
        "import csv\n",
        "def Get_info_for_trader(id:int):\n",
        "  url_trader = f'https://my.litefinance.org/traders/info?id={id}'\n",
        "  r = requests.get(url_trader)\n",
        "  if r.status_code == 200:\n",
        "    content = BeautifulSoup(r.text , 'html.parser')\n",
        "    tradre_name = content.find('div' , {'class' : 'title'})\n",
        "    panel_inner = content.find_all('div' , {'class' : 'panel_inner'})[0]\n",
        "    country = panel_inner.find_all('div' , {'class' : 'data'})[0].find('div' , {'class' : 'data_value'})\n",
        "    in_ranking = panel_inner.find_all('div' , {'class' : 'data'})[1].find('div' , {'class' : 'data_value'})\n",
        "    personal_assets = panel_inner.find_all('div' , {'class' : 'data'})[2].find('div' , {'class' : 'data_value'})\n",
        "    copy_traders_assets = panel_inner.find_all('div' , {'class' : 'data'})[3].find('div' , {'class' : 'data_value'})\n",
        "    number_of_copy_traders = panel_inner.find_all('div' , {'class' : 'data'})[4].find('div' , {'class' : 'data_value'})\n",
        "    risk = panel_inner.find_all('div' , {'class' : 'data'})[5].find('span')\n",
        "    total_trades = content.find('div' , {'class' , 'trader_detail_tools_summary'}).find('div' , {'class' : 'panel_inner'}).find_all('div' , {'class' : 'data_value'})[0]\n",
        "    profitability = content.find('div' , {'class' , 'intro'}).find('div' , {'class' : 'data_value'})\n",
        "    result =  {\n",
        "        'trader name' : tradre_name.text.strip() ,\n",
        "        'id' : id ,\n",
        "        'country' : country.text.strip() ,\n",
        "        'in ranking(days)' : in_ranking.text.strip().replace('days',''),\n",
        "        'personal assets (USD)': personal_assets.text.strip().replace('USD','').replace('~','').replace(' ',''),\n",
        "        'copy traders assets (USD)':copy_traders_assets.text.strip().replace('USD','').replace('~','').replace(' ',''),\n",
        "        'number of copy traders' : number_of_copy_traders.text.strip(),\n",
        "        'risk' : risk.text.strip().replace('risk','') ,\n",
        "        'total trades' :total_trades.text.strip() ,\n",
        "        'profitability %' : profitability.text.strip().replace(' %' , '')\n",
        "    }\n",
        "    csv_file = \"Info about trader.csv\"\n",
        "    field_names = ['trader name', 'id', 'country' , 'in ranking(days)' , 'personal assets (USD)' , 'copy traders assets (USD)' , 'number of copy traders' , 'risk' , 'total trades' , 'profitability %']\n",
        "    with open(csv_file, mode='w', newline='') as file:\n",
        "        writer = csv.DictWriter(file, fieldnames=field_names)\n",
        "        writer.writeheader()\n",
        "        writer.writerow(result)\n"
      ]
    },
    {
      "cell_type": "code",
      "source": [
        "import requests\n",
        "from bs4 import BeautifulSoup\n",
        "import csv\n",
        "\n",
        "def popular_tools(id:int):\n",
        "    url_trader = f'https://my.litefinance.org/traders/info?id={id}'\n",
        "    r = requests.get(url_trader)\n",
        "    if r.status_code == 200:\n",
        "        content = BeautifulSoup(r.text, 'html.parser')\n",
        "        trader_detail_tools = content.find_all('div', {'class': 'panel_inner'})[2]\n",
        "        content_row = trader_detail_tools.find_all('div', {'class': 'content_row_inner'})\n",
        "        detail_tools = []\n",
        "        for row in content_row:\n",
        "            title = row.find('div', {'class': 'title'})\n",
        "            trades = row.find_all('div', {'class': 'data'})[1].find('div', 'data_value')\n",
        "            profitable = row.find_all('div', {'class': 'data'})[2].find('div', 'data_value')\n",
        "            result = {\n",
        "                'title': title.text.strip().replace('_o', ''),\n",
        "                'trades': trades.text.strip(),\n",
        "                'Profitable %': profitable.text.strip().replace('%', '')\n",
        "            }\n",
        "            detail_tools.append(result)\n",
        "\n",
        "        field_names = ['title', 'trades', 'Profitable %']\n",
        "        csv_file = 'popular tools.csv'\n",
        "        with open(csv_file, mode='w', newline='') as file:\n",
        "            writer = csv.DictWriter(file, fieldnames=field_names)\n",
        "            writer.writeheader()\n",
        "            for detail in detail_tools:\n",
        "                writer.writerow(detail)"
      ],
      "metadata": {
        "id": "BAMq1t-GOiiB"
      },
      "execution_count": 70,
      "outputs": []
    },
    {
      "cell_type": "code",
      "source": [
        "#https://my.litefinance.org/traders/info?id=\n",
        "\n",
        "def Portfolio_composition(id:int):\n",
        "    url_trader = f'https://my.litefinance.org/traders/info?id={id}'\n",
        "    r = requests.get(url_trader)\n",
        "    if r.status_code == 200:\n",
        "        content = BeautifulSoup(r.text, 'html.parser')\n",
        "        trader_detail = content.find_all('div' , {'class' : 'trader_detail_tools_chart_data'})\n",
        "        return content.find_all('div' , {'class' : 'trader_detail_tools_chart_data'})\n",
        "\n",
        "\n",
        "\n",
        "id = 1167765\n",
        "print(Portfolio_composition(id = id))"
      ],
      "metadata": {
        "id": "7aXGO0aPePE4"
      },
      "execution_count": null,
      "outputs": []
    },
    {
      "cell_type": "code",
      "source": [],
      "metadata": {
        "id": "gi4nGM3Tia2h"
      },
      "execution_count": null,
      "outputs": []
    }
  ],
  "metadata": {
    "colab": {
      "provenance": [],
      "authorship_tag": "ABX9TyMK6Gkj4KTMbMeSFbbdrABE",
      "include_colab_link": true
    },
    "kernelspec": {
      "display_name": "Python 3",
      "name": "python3"
    },
    "language_info": {
      "name": "python"
    }
  },
  "nbformat": 4,
  "nbformat_minor": 0
}