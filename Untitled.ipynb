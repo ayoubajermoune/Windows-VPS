{
  "nbformat": 4,
  "nbformat_minor": 0,
  "metadata": {
    "colab": {
      "provenance": [],
      "authorship_tag": "ABX9TyP7hFATU80jPDVvKHIOMcWG",
      "include_colab_link": true
    },
    "kernelspec": {
      "name": "python3",
      "display_name": "Python 3"
    },
    "language_info": {
      "name": "python"
    }
  },
  "cells": [
    {
      "cell_type": "markdown",
      "metadata": {
        "id": "view-in-github",
        "colab_type": "text"
      },
      "source": [
        "<a href=\"https://colab.research.google.com/github/ayoubajermoune/Windows-VPS/blob/main/Untitled.ipynb\" target=\"_parent\"><img src=\"https://colab.research.google.com/assets/colab-badge.svg\" alt=\"Open In Colab\"/></a>"
      ]
    },
    {
      "cell_type": "code",
      "source": [
        "import requests\n",
        "from bs4 import BeautifulSoup"
      ],
      "metadata": {
        "id": "Jwj9-9S9Vw1d"
      },
      "execution_count": null,
      "outputs": []
    },
    {
      "cell_type": "code",
      "execution_count": 51,
      "metadata": {
        "id": "LSPbcpA8Vhrn"
      },
      "outputs": [],
      "source": [
        "def litefinance(id:int):\n",
        "  brocker_name = 'litefinance'\n",
        "  brocker_url = f'https://my.litefinance.org/traders/trades?id={id}'\n",
        "  r = requests.get(brocker_url)\n",
        "  list_rows = []\n",
        "  if r.status_code == 200:\n",
        "      content = BeautifulSoup(r.text, 'html.parser')\n",
        "      trader_name = content.find('main').find('div' , {'class' : 'title'})\n",
        "      rows = content.find_all('div' , {'class' : 'content_row'})\n",
        "      for row in rows:\n",
        "        list_rows.append(row)\n",
        "  signals = []\n",
        "  for row in list_rows:\n",
        "    title = row.find_all('div' , {'class' : 'content_col'})[0].find('div' , {'class' , 'title'})\n",
        "    type = row.find_all('div' , {'class' : 'content_col'})[1]\n",
        "    volume = row.find_all('div' , {'class' : 'content_col'})[2].find('strong')\n",
        "    open_time = row.find_all('div' , {'class' : 'content_col'})[3].find('div' , {'class' , 'data_value'})\n",
        "    profite = row.find_all('div' , {'class' : 'content_col'})[8].find('div' , {'class' , 'data_value'}).text.strip().replace(' USD','')\n",
        "    if float(profite) > 0 :\n",
        "      result = {\n",
        "          'crince' : title.text.strip() ,\n",
        "          'action' : type.text.strip(),\n",
        "          'volume' : float(volume.text.strip()) ,\n",
        "          'magic' : id ,\n",
        "          'commend' : open_time.text.strip().replace(' ','').replace('.', '').replace(':', '')\n",
        "      }\n",
        "      signals.append(result)\n",
        "  return {\n",
        "      'brocker_name' : brocker_name,\n",
        "      'trader_name' : trader_name.text.strip(),\n",
        "      'id' : id,\n",
        "      'open_positions': signals\n",
        "  }"
      ]
    },
    {
      "cell_type": "code",
      "source": [
        "\n",
        "print(litefinance(id = 1167765))\n",
        "for i in litefinance(id = 1167765)['open_positions']:\n",
        "  print(i)\n"
      ],
      "metadata": {
        "colab": {
          "base_uri": "https://localhost:8080/"
        },
        "id": "zAuBbeP57GL0",
        "outputId": "50ec72f8-f09b-4a98-9aa6-7c52497af2a8"
      },
      "execution_count": 52,
      "outputs": [
        {
          "output_type": "stream",
          "name": "stdout",
          "text": [
            "{'brocker_name': 'litefinance', 'trader_name': '@reza1214', 'id': 1167765, 'open_positions': [{'crince': 'EURUSD', 'action': 'Buy', 'volume': 1.0, 'magic': 1167765, 'commend': '16042024063438'}]}\n",
            "{'crince': 'EURUSD', 'action': 'Buy', 'volume': 1.0, 'magic': 1167765, 'commend': '16042024063438'}\n"
          ]
        }
      ]
    },
    {
      "cell_type": "code",
      "source": [],
      "metadata": {
        "id": "F8GPEg8P-ak8"
      },
      "execution_count": null,
      "outputs": []
    }
  ]
}